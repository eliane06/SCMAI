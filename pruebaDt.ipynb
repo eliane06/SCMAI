{
 "cells": [
  {
   "cell_type": "code",
   "execution_count": 1,
   "metadata": {
    "scrolled": true
   },
   "outputs": [
    {
     "name": "stderr",
     "output_type": "stream",
     "text": [
      "Using TensorFlow backend.\n"
     ]
    },
    {
     "name": "stdout",
     "output_type": "stream",
     "text": [
      "0.21.3\n"
     ]
    }
   ],
   "source": [
    "from numpy import loadtxt\n",
    "import numpy as np\n",
    "from keras.models import Sequential\n",
    "from keras.layers import Dense\n",
    "from keras.wrappers.scikit_learn import KerasRegressor\n",
    "from sklearn.model_selection import cross_val_score, cross_val_predict\n",
    "from sklearn.model_selection import KFold\n",
    "from sklearn.preprocessing import StandardScaler\n",
    "from sklearn.pipeline import Pipeline\n",
    "\n",
    "import matplotlib.pyplot as plt\n",
    "from sklearn.model_selection import GridSearchCV\n",
    "from keras.optimizers import SGD\n",
    "from keras.constraints import maxnorm\n",
    "\n",
    "\n",
    "from sklearn.preprocessing import MinMaxScaler\n",
    "import csv\n",
    "import pandas as pd\n",
    "\n",
    "from sklearn.metrics import mean_squared_error\n",
    "import sklearn\n",
    "print(sklearn.__version__)"
   ]
  },
  {
   "cell_type": "code",
   "execution_count": 2,
   "metadata": {
    "scrolled": false
   },
   "outputs": [
    {
     "name": "stdout",
     "output_type": "stream",
     "text": [
      "[0.851348   0.6982241  0.9830413  0.7139565  0.95171237 0.97845054\n",
      " 0.9693134  0.97286713 1.0757444  1.0336078  1.0091801  0.97092426\n",
      " 1.020853   1.0477191  0.6688307  0.8108045  0.64795196 0.64795196\n",
      " 0.64795196 0.66279197 0.7397804  0.66279197 0.65867865 0.6668242 ]\n",
      "[7.0, 8.0, 8.0, 5.0, 10.0, 1.0, 8.0, 4.0, 0.0] => 0.851348 (expected 0.469770)\n",
      "[7.0, 6.0, 8.0, 5.0, 10.0, 2.0, 4.0, 4.0, 3.0] => 0.698224 (expected 0.433350)\n",
      "[7.0, 8.0, 8.0, 5.0, 10.0, 3.0, 8.0, 7.0, 4.0] => 0.983041 (expected 0.247010)\n",
      "[7.0, 6.0, 8.0, 5.0, 9.0, 2.0, 4.0, 6.0, 0.0] => 0.713956 (expected 1.612500)\n",
      "[7.0, 8.0, 8.0, 5.0, 10.0, 2.0, 8.0, 4.0, 10.0] => 0.951712 (expected 0.634590)\n",
      "[5.0, 8.0, 8.0, 5.0, 9.0, 1.0, 8.0, 6.0, 10.0] => 0.978451 (expected 4.577370)\n",
      "[5.0, 8.0, 8.0, 5.0, 10.0, 1.0, 8.0, 6.0, 8.0] => 0.969313 (expected 18.685070)\n",
      "[5.0, 8.0, 8.0, 5.0, 9.0, 2.0, 8.0, 6.0, 9.0] => 0.972867 (expected 4.769060)\n",
      "[3.0, 8.0, 8.0, 5.0, 10.0, 2.0, 8.0, 10.0, 10.0] => 1.075744 (expected 5.452410)\n",
      "[3.0, 8.0, 9.0, 5.0, 10.0, 1.0, 8.0, 9.0, 8.0] => 1.033608 (expected 1.959610)\n",
      "[3.0, 8.0, 8.0, 5.0, 5.0, 2.0, 8.0, 10.0, 9.0] => 1.009180 (expected 3.709760)\n",
      "[3.0, 8.0, 8.0, 5.0, 9.0, 2.0, 8.0, 7.0, 8.0] => 0.970924 (expected 17.291890)\n",
      "[3.0, 8.0, 8.0, 5.0, 9.0, 1.0, 8.0, 9.0, 8.0] => 1.020853 (expected 5.134260)\n",
      "[3.0, 8.0, 8.0, 5.0, 9.0, 1.0, 8.0, 10.0, 8.0] => 1.047719 (expected 6.445460)\n",
      "[3.0, 6.0, 8.0, 5.0, 5.0, 3.0, 4.0, 7.0, 0.0] => 0.668831 (expected 1.734700)\n",
      "[5.0, 6.0, 8.0, 5.0, 9.0, 2.0, 4.0, 8.0, 7.0] => 0.810804 (expected 3.691810)\n",
      "[5.0, 6.0, 8.0, 5.0, 9.0, 2.0, 4.0, 4.0, 0.0] => 0.647952 (expected 0.285380)\n",
      "[5.0, 6.0, 8.0, 5.0, 9.0, 2.0, 4.0, 4.0, 0.0] => 0.647952 (expected 0.576040)\n",
      "[5.0, 6.0, 8.0, 5.0, 9.0, 2.0, 4.0, 4.0, 0.0] => 0.647952 (expected 1.334400)\n",
      "[7.0, 6.0, 8.0, 5.0, 9.0, 2.0, 4.0, 4.0, 0.0] => 0.662792 (expected 3.032230)\n",
      "[5.0, 6.0, 8.0, 5.0, 10.0, 2.0, 4.0, 4.0, 10.0] => 0.739780 (expected 0.864920)\n",
      "[7.0, 6.0, 8.0, 5.0, 9.0, 2.0, 4.0, 4.0, 0.0] => 0.662792 (expected 0.709880)\n",
      "[7.0, 6.0, 8.0, 5.0, 9.0, 1.0, 4.0, 4.0, 0.0] => 0.658679 (expected 0.930100)\n",
      "[7.0, 6.0, 8.0, 5.0, 10.0, 1.0, 4.0, 4.0, 0.0] => 0.666824 (expected 0.155150)\n",
      "5.395306401200657\n",
      "0.4270274217361619\n"
     ]
    },
    {
     "name": "stderr",
     "output_type": "stream",
     "text": [
      "C:\\Users\\ElianeHaidee\\Anaconda3\\lib\\site-packages\\ipykernel_launcher.py:47: UserWarning: Matplotlib is currently using module://ipykernel.pylab.backend_inline, which is a non-GUI backend, so cannot show the figure.\n",
      "C:\\Users\\ElianeHaidee\\Anaconda3\\lib\\site-packages\\sklearn\\model_selection\\_split.py:1978: FutureWarning: The default value of cv will change from 3 to 5 in version 0.22. Specify it explicitly to silence this warning.\n",
      "  warnings.warn(CV_WARNING, FutureWarning)\n"
     ]
    },
    {
     "name": "stdout",
     "output_type": "stream",
     "text": [
      "[-2.94715613 -0.45010943 -1.8712503 ]\n",
      "Results: -1.76 (1.02) MSE\n"
     ]
    },
    {
     "data": {
      "image/png": "[encoded data removed]",
      "text/plain": [
       "<Figure size 432x288 with 1 Axes>"
      ]
     },
     "metadata": {
      "needs_background": "light"
     },
     "output_type": "display_data"
    }
   ],
   "source": [
    "dataset = loadtxt('NT2006-copia.csv', delimiter=',')\n",
    "X = dataset[:,3:12]\n",
    "Y = dataset[:,13]\n",
    "#Y = dataset[:,17]\n",
    "\n",
    "dataset = loadtxt('NT2010-copia1.csv', delimiter=',') #sin sacar valores atípicos\n",
    "X_test = dataset[:,3:12]\n",
    "Y_test = dataset[:, 13]\n",
    "#Y_test = dataset[:, 16]\n",
    "nit = dataset[:,2]\n",
    "\n",
    "def rmse(predicts, targets): \n",
    "    return np.sqrt(((predicts - targets) ** 2).mean())\n",
    "\n",
    "def corr(predicts, targets, nit):\n",
    "    a = predicts - np.mean(predicts)\n",
    "    b = nit - np.mean(nit)\n",
    "    return sum(a*b) / (np.sqrt(sum(a**2))*(np.sqrt(sum(b**2))))\n",
    "\n",
    "# define base model\n",
    "def b_model():\n",
    "\t# create model\n",
    "\tmodel = Sequential()\n",
    "\tmodel.add(Dense(18, input_dim=9, kernel_initializer='normal', activation='relu'))\n",
    "\t#model.add(Dense(6, kernel_initializer='normal', activation='relu'))\n",
    "\tmodel.add(Dense(1, kernel_initializer='normal', activation='linear'))\n",
    "\tmodel.compile(loss='mean_squared_error', optimizer='Adadelta', metrics=['mse'])\n",
    "\treturn model\n",
    "\n",
    "estimator = KerasRegressor(build_fn=b_model, epochs=10, batch_size=10, verbose=0)\n",
    "kfold = KFold(n_splits=10)\n",
    "estimator.fit(X, Y)\n",
    "y_pred = estimator.predict(X_test)\n",
    "print(y_pred)\n",
    "\n",
    "for i in range(len(Y_test)):\n",
    "\tprint('%s => %f (expected %f)' % (X_test[i].tolist(), y_pred[i], Y_test[i]))\n",
    "\n",
    "print(rmse(y_pred, Y_test))\n",
    "print(corr(y_pred, Y_test, nit))\n",
    "\n",
    "fig,ax = plt.subplots()\n",
    "ax.scatter(Y_test, y_pred)\n",
    "ax.plot([Y_test.min(), Y_test.max()], [Y_test.min(), Y_test.max()], 'k--', lw=2)\n",
    "ax.set_xlabel('Measured')\n",
    "ax.set_ylabel('Predicted')\n",
    "fig.show()\n",
    "\n",
    "\n",
    "#//////////////////////////////////////////////////////////\n",
    "#y_pred = cross_val_predict(estimator, X, Y, cv=kfold)\n",
    "#print(y_pred)\n",
    "\n",
    "results = cross_val_score(estimator, X, Y)\n",
    "print(results)\n",
    "print(\"Results: %.2f (%.2f) MSE\" % (results.mean(), results.std()))\n",
    "\n",
    "outfile = open('results.csv','w')\n",
    "out = csv.writer(outfile)\n",
    "out.writerows(map(lambda x: [x], y_pred))\n",
    "outfile.close()\n",
    "\n",
    "\n",
    "#y_pred['org_id'].unique().to_csv(\"results.csv\", index=False)     \n",
    "\n"
   ]
  },
  {
   "cell_type": "code",
   "execution_count": 38,
   "metadata": {
    "scrolled": false
   },
   "outputs": [
    {
     "name": "stdout",
     "output_type": "stream",
     "text": [
      "[7.0, 8.0, 8.0, 5.0, 10.0, 1.0, 8.0, 4.0, 0.0] => 0.839429 (expected 0.469770)\n",
      "[7.0, 6.0, 8.0, 5.0, 10.0, 2.0, 4.0, 4.0, 3.0] => 0.708825 (expected 0.433350)\n",
      "[7.0, 8.0, 8.0, 5.0, 10.0, 3.0, 8.0, 7.0, 4.0] => 1.010968 (expected 0.247010)\n",
      "[7.0, 6.0, 8.0, 5.0, 9.0, 2.0, 4.0, 6.0, 0.0] => 0.728435 (expected 1.612500)\n",
      "[7.0, 8.0, 8.0, 5.0, 10.0, 2.0, 8.0, 4.0, 10.0] => 0.967824 (expected 0.634590)\n",
      "[5.0, 8.0, 8.0, 5.0, 9.0, 1.0, 8.0, 6.0, 10.0] => 0.992264 (expected 4.577370)\n",
      "[5.0, 8.0, 8.0, 5.0, 9.0, 2.0, 8.0, 6.0, 9.0] => 1.005865 (expected 4.769060)\n",
      "[3.0, 8.0, 8.0, 5.0, 10.0, 2.0, 8.0, 10.0, 10.0] => 1.108676 (expected 5.452410)\n",
      "[3.0, 8.0, 9.0, 5.0, 10.0, 1.0, 8.0, 9.0, 8.0] => 1.053187 (expected 1.959610)\n",
      "[3.0, 8.0, 8.0, 5.0, 5.0, 2.0, 8.0, 10.0, 9.0] => 1.075141 (expected 3.709760)\n",
      "[3.0, 8.0, 8.0, 5.0, 9.0, 1.0, 8.0, 9.0, 8.0] => 1.042424 (expected 5.134260)\n",
      "[3.0, 8.0, 8.0, 5.0, 9.0, 1.0, 8.0, 10.0, 8.0] => 1.069843 (expected 6.445460)\n",
      "[3.0, 6.0, 8.0, 5.0, 5.0, 3.0, 4.0, 7.0, 0.0] => 0.710617 (expected 1.734700)\n",
      "[5.0, 6.0, 8.0, 5.0, 9.0, 2.0, 4.0, 8.0, 7.0] => 0.857935 (expected 3.691810)\n",
      "[5.0, 6.0, 8.0, 5.0, 9.0, 2.0, 4.0, 4.0, 0.0] => 0.644585 (expected 0.285380)\n",
      "[5.0, 6.0, 8.0, 5.0, 9.0, 2.0, 4.0, 4.0, 0.0] => 0.644585 (expected 0.576040)\n",
      "[5.0, 6.0, 8.0, 5.0, 9.0, 2.0, 4.0, 4.0, 0.0] => 0.644585 (expected 1.334400)\n",
      "[7.0, 6.0, 8.0, 5.0, 9.0, 2.0, 4.0, 4.0, 0.0] => 0.666464 (expected 3.032230)\n",
      "[5.0, 6.0, 8.0, 5.0, 10.0, 2.0, 4.0, 4.0, 10.0] => 0.747462 (expected 0.864920)\n",
      "[7.0, 6.0, 8.0, 5.0, 9.0, 2.0, 4.0, 4.0, 0.0] => 0.666464 (expected 0.709880)\n",
      "[7.0, 6.0, 8.0, 5.0, 9.0, 1.0, 4.0, 4.0, 0.0] => 0.653046 (expected 0.930100)\n",
      "[7.0, 6.0, 8.0, 5.0, 10.0, 1.0, 4.0, 4.0, 0.0] => 0.657450 (expected 0.155150)\n",
      "2.3022260965376242\n",
      "0.5563588319986075\n"
     ]
    },
    {
     "name": "stderr",
     "output_type": "stream",
     "text": [
      "C:\\Users\\ElianeHaidee\\Anaconda3\\lib\\site-packages\\ipykernel_launcher.py:49: UserWarning: Matplotlib is currently using module://ipykernel.pylab.backend_inline, which is a non-GUI backend, so cannot show the figure.\n"
     ]
    },
    {
     "data": {
      "image/png": "[encoded data removed]",
      "text/plain": [
       "<Figure size 432x288 with 1 Axes>"
      ]
     },
     "metadata": {
      "needs_background": "light"
     },
     "output_type": "display_data"
    }
   ],
   "source": [
    "dataset = loadtxt('NT2006-copia.csv', delimiter=',')\n",
    "X = dataset[:,3:12]\n",
    "Y = dataset[:,13]\n",
    "#Y = dataset[:,17]\n",
    "#print(Y)\n",
    "\n",
    "dataset = loadtxt('NT2010-copia2.csv', delimiter=',') #sacando valores muy atípicos\n",
    "X_test = dataset[:,3:12]\n",
    "Y_test = dataset[:, 13]\n",
    "#Y_test = dataset[:, 16]\n",
    "nit = dataset[:,2]\n",
    "#print(X_test.dtype)\n",
    "#print(Y_test)\n",
    "\n",
    "def rmse(predicts, targets): \n",
    "    return np.sqrt(((predicts - targets) ** 2).mean())\n",
    "\n",
    "def corr(predicts, targets, nit):\n",
    "    a = predicts - np.mean(predicts)\n",
    "    b = nit - np.mean(nit)\n",
    "    return sum(a*b) / (np.sqrt(sum(a**2))*(np.sqrt(sum(b**2))))\n",
    "\n",
    "# define base model\n",
    "def b_model():\n",
    "\t# create model\n",
    "\tmodel = Sequential()\n",
    "\tmodel.add(Dense(18, input_dim=9, kernel_initializer='normal', activation='relu'))\n",
    "\t#model.add(Dense(6, kernel_initializer='normal', activation='relu'))\n",
    "\tmodel.add(Dense(1, kernel_initializer='normal', activation='linear'))\n",
    "\tmodel.compile(loss='mean_squared_error', optimizer='Adadelta', metrics=['mse'])\n",
    "\treturn model\n",
    "\n",
    "estimator = KerasRegressor(build_fn=b_model, epochs=10, batch_size=10, verbose=0)\n",
    "kfold = KFold(n_splits=10)\n",
    "estimator.fit(X, Y)\n",
    "y_pred = estimator.predict(X_test)\n",
    "\n",
    "for i in range(len(Y_test)):\n",
    "\tprint('%s => %f (expected %f)' % (X_test[i].tolist(), y_pred[i], Y_test[i]))\n",
    "\n",
    "print(rmse(y_pred, Y_test))\n",
    "print(corr(y_pred, Y_test, nit))\n",
    "\n",
    "fig,ax = plt.subplots()\n",
    "ax.scatter(Y_test, y_pred)\n",
    "ax.plot([Y_test.min(), Y_test.max()], [Y_test.min(), Y_test.max()], 'k--', lw=2)\n",
    "ax.set_xlabel('Measured')\n",
    "ax.set_ylabel('Predicted')\n",
    "fig.show()"
   ]
  },
  {
   "cell_type": "code",
   "execution_count": 41,
   "metadata": {
    "scrolled": false
   },
   "outputs": [
    {
     "name": "stdout",
     "output_type": "stream",
     "text": [
      "[5.0, 8.0, 8.0, 5.0, 9.0, 1.0, 8.0, 6.0, 8.0] => 2.746399 (expected 3.220827)\n",
      "[5.0, 8.0, 8.0, 5.0, 9.0, 1.0, 8.0, 6.0, 5.0] => 2.613544 (expected 2.994008)\n",
      "[9.0, 8.0, 8.0, 5.0, 9.0, 2.0, 8.0, 7.0, 9.0] => 3.037523 (expected 1.279670)\n",
      "[9.0, 8.0, 8.0, 5.0, 9.0, 2.0, 8.0, 7.0, 8.0] => 2.994863 (expected 4.694552)\n",
      "[9.0, 8.0, 8.0, 5.0, 9.0, 2.0, 8.0, 7.0, 10.0] => 3.080183 (expected 3.160192)\n",
      "[7.0, 8.0, 8.0, 5.0, 10.0, 1.0, 8.0, 7.0, 8.0] => 2.907600 (expected 0.149839)\n",
      "[5.0, 6.0, 8.0, 5.0, 9.0, 1.0, 4.0, 7.0, 3.0] => 2.190812 (expected 0.090826)\n",
      "[5.0, 8.0, 8.0, 5.0, 9.0, 1.0, 8.0, 7.0, 2.0] => 2.513372 (expected 0.073090)\n",
      "[7.0, 8.0, 8.0, 5.0, 9.0, 1.0, 8.0, 7.0, 10.0] => 2.958212 (expected 0.163535)\n",
      "[7.0, 8.0, 9.0, 5.0, 10.0, 2.0, 8.0, 7.0, 0.0] => 2.627898 (expected 0.538738)\n",
      "[3.0, 8.0, 8.0, 5.0, 9.0, 1.0, 8.0, 9.0, 7.0] => 2.715892 (expected 0.520790)\n",
      "[3.0, 8.0, 8.0, 5.0, 9.0, 1.0, 8.0, 9.0, 10.0] => 2.850595 (expected 0.304782)\n",
      "[3.0, 8.0, 8.0, 5.0, 9.0, 2.0, 8.0, 9.0, 5.0] => 2.660887 (expected 1.189201)\n",
      "[3.0, 6.0, 8.0, 5.0, 9.0, 2.0, 4.0, 9.0, 0.0] => 2.068139 (expected 0.556365)\n",
      "[3.0, 6.0, 9.0, 5.0, 10.0, 2.0, 4.0, 9.0, 3.0] => 2.281307 (expected 0.112543)\n",
      "[3.0, 6.0, 9.0, 5.0, 9.0, 1.0, 4.0, 9.0, 9.0] => 2.480714 (expected 0.147134)\n",
      "[3.0, 8.0, 9.0, 5.0, 9.0, 1.0, 8.0, 9.0, 10.0] => 2.893229 (expected 3.852587)\n",
      "[3.0, 8.0, 9.0, 5.0, 9.0, 1.0, 8.0, 10.0, 10.0] => 2.927760 (expected 1.472009)\n",
      "[3.0, 8.0, 8.0, 5.0, 9.0, 1.0, 8.0, 9.0, 5.0] => 2.626090 (expected 4.027786)\n",
      "[3.0, 8.0, 8.0, 5.0, 9.0, 2.0, 8.0, 10.0, 8.0] => 2.830122 (expected 4.074331)\n",
      "[9.0, 8.0, 8.0, 5.0, 5.0, 2.0, 8.0, 8.0, 10.0] => 2.976329 (expected 0.415380)\n",
      "[9.0, 6.0, 8.0, 5.0, 1.0, 2.0, 4.0, 4.0, 4.0] => 2.046907 (expected 0.345771)\n",
      "[9.0, 6.0, 8.0, 5.0, 9.0, 2.0, 4.0, 4.0, 4.0] => 2.333890 (expected 0.084743)\n",
      "[7.0, 6.0, 8.0, 5.0, 10.0, 1.0, 4.0, 4.0, 10.0] => 2.497414 (expected 0.177980)\n",
      "[7.0, 6.0, 8.0, 5.0, 9.0, 1.0, 4.0, 4.0, 3.0] => 2.169258 (expected 0.391900)\n",
      "2.0574465270925804\n",
      "0.2197416204736778\n"
     ]
    },
    {
     "name": "stderr",
     "output_type": "stream",
     "text": [
      "C:\\Users\\ElianeHaidee\\Anaconda3\\lib\\site-packages\\ipykernel_launcher.py:49: UserWarning: Matplotlib is currently using module://ipykernel.pylab.backend_inline, which is a non-GUI backend, so cannot show the figure.\n"
     ]
    },
    {
     "data": {
      "image/png": "[encoded data removed]",
      "text/plain": [
       "<Figure size 432x288 with 1 Axes>"
      ]
     },
     "metadata": {
      "needs_background": "light"
     },
     "output_type": "display_data"
    }
   ],
   "source": [
    "dataset = loadtxt('NT2010-copia1.csv', delimiter=',') #sin sacar valores atípicos\n",
    "X = dataset[:,3:12]\n",
    "Y = dataset[:,13]\n",
    "#Y = dataset[:,17]\n",
    "#print(Y)\n",
    "\n",
    "dataset = loadtxt('NT2006-copia.csv', delimiter=',')\n",
    "X_test = dataset[:,3:12]\n",
    "Y_test = dataset[:, 13]\n",
    "#Y_test = dataset[:, 16]\n",
    "nit = dataset[:,2]\n",
    "#print(X_test.dtype)\n",
    "#print(Y_test)\n",
    "\n",
    "def rmse(predicts, targets): \n",
    "    return np.sqrt(((predicts - targets) ** 2).mean())\n",
    "\n",
    "def corr(predicts, targets, nit):\n",
    "    a = predicts - np.mean(predicts)\n",
    "    b = nit - np.mean(nit)\n",
    "    return sum(a*b) / (np.sqrt(sum(a**2))*(np.sqrt(sum(b**2))))\n",
    "\n",
    "# define base model\n",
    "def b_model():\n",
    "\t# create model\n",
    "\tmodel = Sequential()\n",
    "\tmodel.add(Dense(18, input_dim=9, kernel_initializer='normal', activation='relu'))\n",
    "\t#model.add(Dense(6, kernel_initializer='normal', activation='relu'))\n",
    "\tmodel.add(Dense(1, kernel_initializer='normal', activation='linear'))\n",
    "\tmodel.compile(loss='mean_squared_error', optimizer='Adadelta', metrics=['mse'])\n",
    "\treturn model\n",
    "\n",
    "estimator = KerasRegressor(build_fn=b_model, epochs=10, batch_size=10, verbose=0)\n",
    "kfold = KFold(n_splits=10)\n",
    "estimator.fit(X, Y)\n",
    "y_pred = estimator.predict(X_test)\n",
    "\n",
    "for i in range(25):\n",
    "\tprint('%s => %f (expected %f)' % (X_test[i].tolist(), y_pred[i], Y_test[i]))\n",
    "\n",
    "print(rmse(y_pred, Y_test))\n",
    "print(corr(y_pred, Y_test, nit))\n",
    "\n",
    "fig,ax = plt.subplots()\n",
    "ax.scatter(Y_test, y_pred)\n",
    "ax.plot([Y_test.min(), Y_test.max()], [Y_test.min(), Y_test.max()], 'k--', lw=2)\n",
    "ax.set_xlabel('Measured')\n",
    "ax.set_ylabel('Predicted')\n",
    "fig.show()"
   ]
  },
  {
   "cell_type": "code",
   "execution_count": 17,
   "metadata": {},
   "outputs": [
    {
     "name": "stdout",
     "output_type": "stream",
     "text": [
      "[0.28409022 0.27612007 0.30774015 0.30508345 0.31039688 0.29937792\n",
      " 0.25003624 0.27210438 0.30045554 0.28465423 0.2861994  0.29416955\n",
      " 0.28372985 0.24572143 0.26161352 0.27047417 0.29785568 0.30181015\n",
      " 0.280886   0.29565442 0.29740816 0.2267956  0.25786835 0.26810312\n",
      " 0.54618204 0.6842889  0.5804756  0.49207345 0.5177289  0.48795965\n",
      " 0.5020649  0.5353555  0.5404318  0.5177289  0.6004022  0.55157644\n",
      " 0.68196714 0.6585869  0.58705986 0.6281926  0.57000786 0.5579174\n",
      " 0.57561564 0.57634956 0.57537353 0.60134447 0.56684756 0.5961392\n",
      " 0.19873735 0.26539126 0.2219953  0.22615913 0.25325322 0.18208277\n",
      " 0.18276846 0.27582306 0.2606468  0.24109143 0.19165543 0.21186593\n",
      " 0.2504496  0.18419862 0.71797174 0.21160123 0.25144958 0.18822286\n",
      " 0.18136778 0.20789039 0.18048778 0.26574686 0.20132467]\n"
     ]
    },
    {
     "name": "stderr",
     "output_type": "stream",
     "text": [
      "C:\\Users\\ElianeHaidee\\Anaconda3\\lib\\site-packages\\ipykernel_launcher.py:30: UserWarning: Matplotlib is currently using module://ipykernel.pylab.backend_inline, which is a non-GUI backend, so cannot show the figure.\n"
     ]
    },
    {
     "name": "stdout",
     "output_type": "stream",
     "text": [
      "[-4.7666955  -0.17508307 -4.41296291 -0.33806223 -0.26924691 -0.10995376\n",
      " -5.20513153 -0.68464667 -0.43012497 -0.2942985 ]\n",
      "Results: -1.67 (2.06) MSE\n"
     ]
    },
    {
     "data": {
      "image/png": "[encoded data removed]",
      "text/plain": [
       "<Figure size 432x288 with 1 Axes>"
      ]
     },
     "metadata": {
      "needs_background": "light"
     },
     "output_type": "display_data"
    }
   ],
   "source": [
    "# la diferencia con el anterior se da en que esta tiene más de una capa oculta\n",
    "\n",
    "dataset = loadtxt('NT2006-copia.csv', delimiter=',')\n",
    "X = dataset[:,3:12]\n",
    "Y = dataset[:,13]\n",
    "\n",
    "\n",
    "# define base model\n",
    "def baseline_model():\n",
    "\t# create model\n",
    "\tmodel = Sequential()\n",
    "\tmodel.add(Dense(12, input_dim=9, kernel_initializer='normal', activation='relu'))\n",
    "\tmodel.add(Dense(6, kernel_initializer='normal', activation='relu'))\n",
    "\tmodel.add(Dense(1, kernel_initializer='normal'))\n",
    "\t# Compile model\n",
    "\tmodel.compile(loss='mean_squared_error', optimizer='adam')\n",
    "\treturn model\n",
    "\n",
    "estimator = KerasRegressor(build_fn=baseline_model, epochs=10, batch_size=10, verbose=0)\n",
    "kfold = KFold(n_splits=10)\n",
    "y_pred = cross_val_predict(estimator, X, Y, cv=3)\n",
    "print(y_pred)\n",
    "type(y_pred)\n",
    "\n",
    "fig,ax = plt.subplots()\n",
    "ax.scatter(Y, y_pred)\n",
    "ax.plot([Y.min(), Y.max()], [Y.min(), Y.max()], 'k--', lw=4)\n",
    "ax.set_xlabel('Measured')\n",
    "ax.set_ylabel('Predicted')\n",
    "fig.show()\n",
    "\n",
    "results = cross_val_score(estimator, X, Y, cv=kfold)\n",
    "print(results)\n",
    "print(\"Results: %.2f (%.2f) MSE\" % (results.mean(), results.std()))\n",
    "\n",
    "outfile = open('results.csv','w')\n",
    "out = csv.writer(outfile)\n",
    "out.writerows(map(lambda x: [x], y_pred))\n",
    "outfile.close()\n"
   ]
  },
  {
   "cell_type": "code",
   "execution_count": 14,
   "metadata": {},
   "outputs": [
    {
     "name": "stdout",
     "output_type": "stream",
     "text": [
      "[9.0, 8.0, 8.0, 5.0, 9.0, 2.0, 8.0, 7.0, 9.0] => 1.895826 (expected 1.279670)\n",
      "[3.0, 6.0, 8.0, 5.0, 9.0, 1.0, 4.0, 4.0, 0.0] => 1.090051 (expected 0.076220)\n",
      "[5.0, 8.0, 8.0, 5.0, 10.0, 2.0, 8.0, 9.0, 7.0] => 1.809889 (expected 0.502575)\n",
      "[3.0, 8.0, 9.0, 5.0, 9.0, 1.0, 8.0, 9.0, 10.0] => 1.891195 (expected 3.852587)\n",
      "[3.0, 6.0, 8.0, 5.0, 9.0, 2.0, 4.0, 9.0, 0.0] => 1.191506 (expected 0.556365)\n",
      "[3.0, 6.0, 8.0, 5.0, 9.0, 1.0, 4.0, 7.0, 0.0] => 1.154393 (expected 0.027206)\n",
      "[3.0, 8.0, 8.0, 5.0, 9.0, 3.0, 8.0, 7.0, 100.0] => 5.522203 (expected 0.340978)\n",
      "[3.0, 8.0, 9.0, 5.0, 10.0, 1.0, 8.0, 9.0, 8.0] => 1.841613 (expected 1.959610)\n",
      "[5.0, 6.0, 8.0, 5.0, 9.0, 1.0, 4.0, 4.0, 0.0] => 1.129613 (expected 0.116148)\n",
      "[3.0, 8.0, 8.0, 5.0, 10.0, 2.0, 8.0, 10.0, 10.0] => 1.924480 (expected 5.452410)\n",
      "[5.0, 8.0, 8.0, 5.0, 9.0, 1.0, 8.0, 6.0, 10.0] => 1.847802 (expected 4.577370)\n",
      "[5.0, 8.0, 8.0, 5.0, 9.0, 1.0, 8.0, 7.0, 2.0] => 1.492121 (expected 0.073090)\n",
      "[7.0, 8.0, 9.0, 5.0, 9.0, 3.0, 8.0, 7.0, 0.0] => 1.444038 (expected 0.606799)\n",
      "[7.0, 6.0, 8.0, 5.0, 9.0, 2.0, 4.0, 4.0, 0.0] => 1.163392 (expected 3.032230)\n",
      "[7.0, 6.0, 8.0, 5.0, 10.0, 1.0, 4.0, 4.0, 0.0] => 1.213856 (expected 0.155150)\n",
      "[3.0, 8.0, 8.0, 5.0, 9.0, 2.0, 8.0, 8.0, 7.0] => 1.704199 (expected 0.767274)\n",
      "[7.0, 8.0, 8.0, 5.0, 9.0, 1.0, 8.0, 7.0, 10.0] => 1.908589 (expected 0.163535)\n",
      "[9.0, 6.0, 8.0, 5.0, 9.0, 2.0, 4.0, 4.0, 4.0] => 1.391734 (expected 0.084743)\n",
      "[7.0, 8.0, 8.0, 5.0, 10.0, 3.0, 8.0, 7.0, 4.0] => 1.659190 (expected 0.247010)\n",
      "[7.0, 6.0, 8.0, 5.0, 9.0, 2.0, 4.0, 6.0, 8.0] => 1.583846 (expected 0.946203)\n",
      "[9.0, 6.0, 8.0, 1.0, 5.0, 2.0, 1.0, 9.0, 10.0] => 1.386934 (expected 0.272267)\n",
      "[7.0, 6.0, 8.0, 5.0, 10.0, 4.0, 4.0, 4.0, 0.0] => 1.196510 (expected 0.142806)\n",
      "[7.0, 6.0, 8.0, 5.0, 9.0, 1.0, 4.0, 4.0, 3.0] => 1.310759 (expected 0.391900)\n",
      "[5.0, 6.0, 8.0, 5.0, 9.0, 1.0, 4.0, 7.0, 3.0] => 1.335539 (expected 0.090826)\n",
      "[3.0, 6.0, 8.0, 5.0, 5.0, 2.0, 4.0, 8.0, 9.0] => 1.414614 (expected 0.126452)\n",
      "[5.0, 6.0, 8.0, 5.0, 9.0, 2.0, 4.0, 9.0, 0.0] => 1.231067 (expected 0.341199)\n",
      "[7.0, 6.0, 8.0, 5.0, 9.0, 2.0, 4.0, 6.0, 0.0] => 1.206287 (expected 1.612500)\n",
      "[5.0, 6.0, 8.0, 5.0, 9.0, 2.0, 4.0, 4.0, 0.0] => 1.123831 (expected 0.576040)\n",
      "[5.0, 8.0, 8.0, 5.0, 9.0, 2.0, 8.0, 6.0, 9.0] => 1.795255 (expected 4.769060)\n",
      "[3.0, 8.0, 8.0, 5.0, 9.0, 1.0, 8.0, 10.0, 8.0] => 1.799725 (expected 6.445460)\n",
      "[5.0, 6.0, 8.0, 5.0, 9.0, 2.0, 4.0, 4.0, 0.0] => 1.123831 (expected 0.285380)\n",
      "[9.0, 8.0, 8.0, 5.0, 9.0, 2.0, 8.0, 7.0, 8.0] => 1.848631 (expected 4.694552)\n",
      "[5.0, 6.0, 8.0, 5.0, 9.0, 2.0, 4.0, 4.0, 0.0] => 1.123831 (expected 0.285049)\n",
      "[3.0, 6.0, 8.0, 5.0, 5.0, 3.0, 4.0, 7.0, 0.0] => 0.964104 (expected 1.734700)\n",
      "1.8784332343211845\n"
     ]
    },
    {
     "name": "stderr",
     "output_type": "stream",
     "text": [
      "C:\\Users\\ElianeHaidee\\Anaconda3\\lib\\site-packages\\ipykernel_launcher.py:44: UserWarning: Matplotlib is currently using module://ipykernel.pylab.backend_inline, which is a non-GUI backend, so cannot show the figure.\n"
     ]
    },
    {
     "data": {
      "image/png": "[encoded data removed]",
      "text/plain": [
       "<Figure size 432x288 with 1 Axes>"
      ]
     },
     "metadata": {
      "needs_background": "light"
     },
     "output_type": "display_data"
    }
   ],
   "source": [
    "dataset = loadtxt('NTcompleto.csv', delimiter=',')\n",
    "X = dataset[:,3:12]\n",
    "Y = dataset[:,13]\n",
    "nit = dataset[:,2]\n",
    "#print(X)\n",
    "from sklearn.model_selection import train_test_split\n",
    "X_train, X_test, Y_train, Y_test = train_test_split(X, Y, test_size = 0.35, random_state = 0)\n",
    "\n",
    "\n",
    "def rmse(predicts, targets): \n",
    "    return np.sqrt(((predicts - targets) ** 2).mean())\n",
    "\n",
    "def corr(predicts, targets, nit):\n",
    "    a = predicts - np.mean(predicts)\n",
    "    b = nit - np.mean(nit)\n",
    "    return sum(a*b) / (np.sqrt(sum(a**2))*(np.sqrt(sum(b**2))))\n",
    "\n",
    "# define base model\n",
    "def b_model():\n",
    "\t# create model\n",
    "\tmodel = Sequential()\n",
    "\tmodel.add(Dense(18, input_dim=9, kernel_initializer='normal', activation='relu'))\n",
    "\t#model.add(Dense(6, kernel_initializer='normal', activation='relu'))\n",
    "\tmodel.add(Dense(1, kernel_initializer='normal', activation='linear'))\n",
    "\tmodel.compile(loss='mean_squared_error', optimizer='Adadelta', metrics=['mse'])\n",
    "\treturn model\n",
    "\n",
    "estimator = KerasRegressor(build_fn=b_model, epochs=10, batch_size=10, verbose=0)\n",
    "kfold = KFold(n_splits=10)\n",
    "estimator.fit(X_train, Y_train)\n",
    "y_pred = estimator.predict(X_test)\n",
    "#y_pred = cross_val_predict(estimator, X, Y, cv=3)\n",
    "for i in range(len(Y_test)):\n",
    "\tprint('%s => %f (expected %f)' % (X_test[i].tolist(), y_pred[i], Y_test[i]))\n",
    "\n",
    "print(rmse(y_pred, Y_test))\n",
    "#print(corr(y_pred, Y_test, nit))\n",
    "\n",
    "fig,ax = plt.subplots()\n",
    "ax.scatter(Y_test, y_pred)\n",
    "ax.plot([Y_test.min(), Y_test.max()], [Y_test.min(), Y_test.max()], 'k--', lw=2)\n",
    "ax.set_xlabel('Measured')\n",
    "ax.set_ylabel('Predicted')\n",
    "fig.show()\n",
    "\n"
   ]
  },
  {
   "cell_type": "code",
   "execution_count": 29,
   "metadata": {},
   "outputs": [
    {
     "name": "stdout",
     "output_type": "stream",
     "text": [
      "[10.1917251, 5.0, 8.0, 8.0, 5.0, 9.0, 1.0, 8.0, 6.0, 8.0] => 5.507449 (expected 8.882696)\n",
      "[10.1917251, 5.0, 8.0, 8.0, 5.0, 9.0, 1.0, 8.0, 6.0, 5.0] => 5.336320 (expected 8.882696)\n",
      "[3.50608695, 9.0, 8.0, 8.0, 5.0, 9.0, 2.0, 8.0, 7.0, 9.0] => 3.486390 (expected 3.377423)\n",
      "[13.1291626, 9.0, 8.0, 8.0, 5.0, 9.0, 2.0, 8.0, 7.0, 8.0] => 6.240939 (expected 12.647358)\n",
      "[8.48593408, 9.0, 8.0, 8.0, 5.0, 9.0, 2.0, 8.0, 7.0, 10.0] => 4.998405 (expected 8.174524)\n",
      "[0.44100981, 7.0, 8.0, 8.0, 5.0, 10.0, 1.0, 8.0, 7.0, 8.0] => 2.704968 (expected 0.428872)\n",
      "[0.37100981, 5.0, 6.0, 8.0, 5.0, 9.0, 1.0, 4.0, 7.0, 3.0] => 2.057447 (expected 0.357395)\n",
      "[0.26203366, 5.0, 8.0, 8.0, 5.0, 9.0, 1.0, 8.0, 7.0, 2.0] => 2.349028 (expected 0.252418)\n",
      "[0.46311921, 7.0, 8.0, 8.0, 5.0, 9.0, 1.0, 8.0, 7.0, 10.0] => 2.770709 (expected 0.446124)\n",
      "[1.86209817, 7.0, 8.0, 9.0, 5.0, 10.0, 2.0, 8.0, 7.0, 0.0] => 2.651979 (expected 1.862098)\n",
      "[1.6479453, 3.0, 8.0, 8.0, 5.0, 9.0, 1.0, 8.0, 9.0, 7.0] => 2.784995 (expected 1.436283)\n",
      "[0.90097755, 3.0, 8.0, 8.0, 5.0, 9.0, 1.0, 8.0, 9.0, 10.0] => 2.833053 (expected 0.785256)\n",
      "[3.89088078, 3.0, 8.0, 8.0, 5.0, 9.0, 2.0, 8.0, 9.0, 5.0] => 3.047595 (expected 3.391135)\n",
      "[2.45091304, 3.0, 6.0, 8.0, 5.0, 9.0, 2.0, 4.0, 9.0, 0.0] => 2.141735 (expected 1.911262)\n",
      "[0.44100981, 3.0, 6.0, 9.0, 5.0, 10.0, 2.0, 4.0, 9.0, 3.0] => 2.069973 (expected 0.360091)\n",
      "[0.50084852, 3.0, 6.0, 9.0, 5.0, 9.0, 1.0, 4.0, 9.0, 9.0] => 2.336818 (expected 0.404355)\n",
      "[11.2408807, 3.0, 8.0, 9.0, 5.0, 9.0, 1.0, 8.0, 9.0, 10.0] => 4.357520 (expected 9.075206)\n",
      "[4.20395652, 3.0, 8.0, 9.0, 5.0, 9.0, 1.0, 8.0, 10.0, 10.0] => 3.401598 (expected 3.394020)\n",
      "[13.3730434, 3.0, 8.0, 8.0, 5.0, 9.0, 1.0, 8.0, 9.0, 5.0] => 4.386613 (expected 10.428520)\n",
      "[12.1508807, 3.0, 8.0, 8.0, 5.0, 9.0, 2.0, 8.0, 10.0, 8.0] => 4.444746 (expected 10.590217)\n",
      "[1.11097755, 9.0, 8.0, 8.0, 5.0, 5.0, 2.0, 8.0, 8.0, 10.0] => 2.651757 (expected 0.927513)\n",
      "[1.37088078, 9.0, 6.0, 8.0, 5.0, 1.0, 2.0, 4.0, 4.0, 4.0] => 1.743502 (expected 1.219958)\n",
      "[0.32088078, 9.0, 6.0, 8.0, 5.0, 9.0, 2.0, 4.0, 4.0, 4.0] => 1.664121 (expected 0.279667)\n",
      "[0.61203366, 7.0, 6.0, 8.0, 5.0, 10.0, 1.0, 4.0, 4.0, 10.0] => 1.965820 (expected 0.595189)\n",
      "[1.65088078, 7.0, 6.0, 8.0, 5.0, 9.0, 1.0, 4.0, 4.0, 3.0] => 2.094240 (expected 1.590298)\n",
      "[0.32088078, 5.0, 8.0, 8.0, 5.0, 9.0, 1.0, 8.0, 9.0, 9.0] => 2.628466 (expected 0.309105)\n",
      "[0.89081626, 9.0, 6.0, 8.0, 1.0, 5.0, 2.0, 1.0, 9.0, 10.0] => 2.184709 (expected 0.760054)\n",
      "[0.67088078, 9.0, 6.0, 8.0, 5.0, 9.0, 2.0, 1.0, 0.0, 0.0] => 1.203747 (expected 0.646261)\n",
      "[0.76097755, 5.0, 6.0, 8.0, 5.0, 9.0, 1.0, 4.0, 4.0, 0.0] => 1.723271 (expected 0.733052)\n",
      "[0.81088078, 5.0, 6.0, 8.0, 5.0, 3.0, 1.0, 4.0, 4.0, 0.0] => 1.587298 (expected 0.662095)\n",
      "[0.41097755, 3.0, 6.0, 8.0, 5.0, 9.0, 1.0, 4.0, 4.0, 0.0] => 1.593596 (expected 0.358191)\n",
      "[0.5209453, 5.0, 6.0, 8.0, 5.0, 10.0, 2.0, 4.0, 4.0, 0.0] => 1.746985 (expected 0.411021)\n",
      "[0.61081626, 3.0, 6.0, 8.0, 5.0, 9.0, 1.0, 4.0, 4.0, 9.0] => 2.032149 (expected 0.532363)\n",
      "[0.57988078, 5.0, 6.0, 8.0, 5.0, 9.0, 1.0, 4.0, 4.0, 0.0] => 1.746026 (expected 0.505401)\n",
      "2.820355137257237\n",
      "0.6558038666937265\n"
     ]
    },
    {
     "name": "stderr",
     "output_type": "stream",
     "text": [
      "C:\\Users\\ElianeHaidee\\Anaconda3\\lib\\site-packages\\ipykernel_launcher.py:44: UserWarning: Matplotlib is currently using module://ipykernel.pylab.backend_inline, which is a non-GUI backend, so cannot show the figure.\n"
     ]
    },
    {
     "data": {
      "image/png": "[encoded data removed]",
      "text/plain": [
       "<Figure size 432x288 with 1 Axes>"
      ]
     },
     "metadata": {
      "needs_background": "light"
     },
     "output_type": "display_data"
    }
   ],
   "source": [
    "dataset = loadtxt('NTcompleto.csv', delimiter=',')\n",
    "X = dataset[:,2:12]\n",
    "Y = dataset[:,12]  \n",
    "nit = dataset[:,2]\n",
    "#print(X)\n",
    "#from sklearn.model_selection import train_test_split\n",
    "#X_train, X_test, Y_train, Y_test = train_test_split(X, Y, test_size = 0.35, random_state = 0)\n",
    "\n",
    "def rmse(predicts, targets): \n",
    "    return np.sqrt(((predicts - targets) ** 2).mean())\n",
    "\n",
    "def corr(predicts, targets, nit):\n",
    "    a = predicts - np.mean(predicts)\n",
    "    b = nit - np.mean(nit)\n",
    "    return sum(a*b) / (np.sqrt(sum(a**2))*(np.sqrt(sum(b**2))))\n",
    "\n",
    "# define base model\n",
    "def b_model():\n",
    "\t# create model\n",
    "\tmodel = Sequential()\n",
    "\tmodel.add(Dense(20, input_dim=10, kernel_initializer='normal', activation='relu'))\n",
    "\t#model.add(Dense(6, kernel_initializer='normal', activation='relu'))\n",
    "\tmodel.add(Dense(1, kernel_initializer='normal', activation='linear'))\n",
    "\tmodel.compile(loss='mean_squared_error', optimizer='Adadelta', metrics=['mse'])\n",
    "\treturn model\n",
    "\n",
    "estimator = KerasRegressor(build_fn=b_model, epochs=10, batch_size=10, verbose=0)\n",
    "#kfold = KFold(n_splits=10)\n",
    "#estimator.fit(X_train, Y_train)\n",
    "#y_pred = estimator.predict(X_test)\n",
    "y_pred = cross_val_predict(estimator, X, Y, cv=10)\n",
    "\n",
    "for i in range(len(Y_test)):\n",
    "\tprint('%s => %f (expected %f)' % (X[i].tolist(), y_pred[i], Y[i]))\n",
    "\n",
    "print(rmse(y_pred, Y))\n",
    "print(corr(y_pred, Y, nit))\n",
    "\n",
    "fig,ax = plt.subplots()\n",
    "ax.scatter(Y, y_pred)\n",
    "ax.plot([Y.min(), Y.max()], [Y.min(), Y.max()], 'k--', lw=2)\n",
    "ax.set_xlabel('Measured')\n",
    "ax.set_ylabel('Predicted')\n",
    "fig.show()\n"
   ]
  },
  {
   "cell_type": "code",
   "execution_count": 3,
   "metadata": {
    "scrolled": true
   },
   "outputs": [
    {
     "ename": "ValueError",
     "evalue": "could not convert string to float: ",
     "output_type": "error",
     "traceback": [
      "\u001b[1;31m---------------------------------------------------------------------------\u001b[0m",
      "\u001b[1;31mValueError\u001b[0m                                Traceback (most recent call last)",
      "\u001b[1;32m<ipython-input-3-a781d82a5ed4>\u001b[0m in \u001b[0;36m<module>\u001b[1;34m\u001b[0m\n\u001b[1;32m----> 1\u001b[1;33m \u001b[0mdataset\u001b[0m \u001b[1;33m=\u001b[0m \u001b[0mloadtxt\u001b[0m\u001b[1;33m(\u001b[0m\u001b[1;34m'Vul-pred.csv'\u001b[0m\u001b[1;33m,\u001b[0m \u001b[0mdelimiter\u001b[0m\u001b[1;33m=\u001b[0m\u001b[1;34m','\u001b[0m\u001b[1;33m)\u001b[0m \u001b[1;31m#sin sacar valores atípicos\u001b[0m\u001b[1;33m\u001b[0m\u001b[1;33m\u001b[0m\u001b[0m\n\u001b[0m\u001b[0;32m      2\u001b[0m \u001b[0mX\u001b[0m \u001b[1;33m=\u001b[0m \u001b[0mdataset\u001b[0m\u001b[1;33m[\u001b[0m\u001b[1;33m:\u001b[0m\u001b[1;33m,\u001b[0m\u001b[1;36m1\u001b[0m\u001b[1;33m:\u001b[0m\u001b[1;36m4\u001b[0m\u001b[1;33m]\u001b[0m\u001b[1;33m\u001b[0m\u001b[1;33m\u001b[0m\u001b[0m\n\u001b[0;32m      3\u001b[0m \u001b[0mprint\u001b[0m\u001b[1;33m(\u001b[0m\u001b[0mX\u001b[0m\u001b[1;33m.\u001b[0m\u001b[0mdtype\u001b[0m\u001b[1;33m)\u001b[0m\u001b[1;33m\u001b[0m\u001b[1;33m\u001b[0m\u001b[0m\n\u001b[0;32m      4\u001b[0m \u001b[0mY\u001b[0m \u001b[1;33m=\u001b[0m \u001b[0mdataset\u001b[0m\u001b[1;33m[\u001b[0m\u001b[1;33m:\u001b[0m\u001b[1;33m,\u001b[0m \u001b[1;36m6\u001b[0m\u001b[1;33m]\u001b[0m\u001b[1;33m\u001b[0m\u001b[1;33m\u001b[0m\u001b[0m\n\u001b[0;32m      5\u001b[0m \u001b[0mnit\u001b[0m \u001b[1;33m=\u001b[0m \u001b[0mdataset\u001b[0m\u001b[1;33m[\u001b[0m\u001b[1;33m:\u001b[0m\u001b[1;33m,\u001b[0m\u001b[1;36m0\u001b[0m\u001b[1;33m]\u001b[0m\u001b[1;33m\u001b[0m\u001b[1;33m\u001b[0m\u001b[0m\n",
      "\u001b[1;32m~\\Anaconda3\\lib\\site-packages\\numpy\\lib\\npyio.py\u001b[0m in \u001b[0;36mloadtxt\u001b[1;34m(fname, dtype, comments, delimiter, converters, skiprows, usecols, unpack, ndmin, encoding, max_rows)\u001b[0m\n\u001b[0;32m   1139\u001b[0m         \u001b[1;31m# converting the data\u001b[0m\u001b[1;33m\u001b[0m\u001b[1;33m\u001b[0m\u001b[1;33m\u001b[0m\u001b[0m\n\u001b[0;32m   1140\u001b[0m         \u001b[0mX\u001b[0m \u001b[1;33m=\u001b[0m \u001b[1;32mNone\u001b[0m\u001b[1;33m\u001b[0m\u001b[1;33m\u001b[0m\u001b[0m\n\u001b[1;32m-> 1141\u001b[1;33m         \u001b[1;32mfor\u001b[0m \u001b[0mx\u001b[0m \u001b[1;32min\u001b[0m \u001b[0mread_data\u001b[0m\u001b[1;33m(\u001b[0m\u001b[0m_loadtxt_chunksize\u001b[0m\u001b[1;33m)\u001b[0m\u001b[1;33m:\u001b[0m\u001b[1;33m\u001b[0m\u001b[1;33m\u001b[0m\u001b[0m\n\u001b[0m\u001b[0;32m   1142\u001b[0m             \u001b[1;32mif\u001b[0m \u001b[0mX\u001b[0m \u001b[1;32mis\u001b[0m \u001b[1;32mNone\u001b[0m\u001b[1;33m:\u001b[0m\u001b[1;33m\u001b[0m\u001b[1;33m\u001b[0m\u001b[0m\n\u001b[0;32m   1143\u001b[0m                 \u001b[0mX\u001b[0m \u001b[1;33m=\u001b[0m \u001b[0mnp\u001b[0m\u001b[1;33m.\u001b[0m\u001b[0marray\u001b[0m\u001b[1;33m(\u001b[0m\u001b[0mx\u001b[0m\u001b[1;33m,\u001b[0m \u001b[0mdtype\u001b[0m\u001b[1;33m)\u001b[0m\u001b[1;33m\u001b[0m\u001b[1;33m\u001b[0m\u001b[0m\n",
      "\u001b[1;32m~\\Anaconda3\\lib\\site-packages\\numpy\\lib\\npyio.py\u001b[0m in \u001b[0;36mread_data\u001b[1;34m(chunk_size)\u001b[0m\n\u001b[0;32m   1066\u001b[0m \u001b[1;33m\u001b[0m\u001b[0m\n\u001b[0;32m   1067\u001b[0m             \u001b[1;31m# Convert each value according to its column and store\u001b[0m\u001b[1;33m\u001b[0m\u001b[1;33m\u001b[0m\u001b[1;33m\u001b[0m\u001b[0m\n\u001b[1;32m-> 1068\u001b[1;33m             \u001b[0mitems\u001b[0m \u001b[1;33m=\u001b[0m \u001b[1;33m[\u001b[0m\u001b[0mconv\u001b[0m\u001b[1;33m(\u001b[0m\u001b[0mval\u001b[0m\u001b[1;33m)\u001b[0m \u001b[1;32mfor\u001b[0m \u001b[1;33m(\u001b[0m\u001b[0mconv\u001b[0m\u001b[1;33m,\u001b[0m \u001b[0mval\u001b[0m\u001b[1;33m)\u001b[0m \u001b[1;32min\u001b[0m \u001b[0mzip\u001b[0m\u001b[1;33m(\u001b[0m\u001b[0mconverters\u001b[0m\u001b[1;33m,\u001b[0m \u001b[0mvals\u001b[0m\u001b[1;33m)\u001b[0m\u001b[1;33m]\u001b[0m\u001b[1;33m\u001b[0m\u001b[1;33m\u001b[0m\u001b[0m\n\u001b[0m\u001b[0;32m   1069\u001b[0m \u001b[1;33m\u001b[0m\u001b[0m\n\u001b[0;32m   1070\u001b[0m             \u001b[1;31m# Then pack it according to the dtype's nesting\u001b[0m\u001b[1;33m\u001b[0m\u001b[1;33m\u001b[0m\u001b[1;33m\u001b[0m\u001b[0m\n",
      "\u001b[1;32m~\\Anaconda3\\lib\\site-packages\\numpy\\lib\\npyio.py\u001b[0m in \u001b[0;36m<listcomp>\u001b[1;34m(.0)\u001b[0m\n\u001b[0;32m   1066\u001b[0m \u001b[1;33m\u001b[0m\u001b[0m\n\u001b[0;32m   1067\u001b[0m             \u001b[1;31m# Convert each value according to its column and store\u001b[0m\u001b[1;33m\u001b[0m\u001b[1;33m\u001b[0m\u001b[1;33m\u001b[0m\u001b[0m\n\u001b[1;32m-> 1068\u001b[1;33m             \u001b[0mitems\u001b[0m \u001b[1;33m=\u001b[0m \u001b[1;33m[\u001b[0m\u001b[0mconv\u001b[0m\u001b[1;33m(\u001b[0m\u001b[0mval\u001b[0m\u001b[1;33m)\u001b[0m \u001b[1;32mfor\u001b[0m \u001b[1;33m(\u001b[0m\u001b[0mconv\u001b[0m\u001b[1;33m,\u001b[0m \u001b[0mval\u001b[0m\u001b[1;33m)\u001b[0m \u001b[1;32min\u001b[0m \u001b[0mzip\u001b[0m\u001b[1;33m(\u001b[0m\u001b[0mconverters\u001b[0m\u001b[1;33m,\u001b[0m \u001b[0mvals\u001b[0m\u001b[1;33m)\u001b[0m\u001b[1;33m]\u001b[0m\u001b[1;33m\u001b[0m\u001b[1;33m\u001b[0m\u001b[0m\n\u001b[0m\u001b[0;32m   1069\u001b[0m \u001b[1;33m\u001b[0m\u001b[0m\n\u001b[0;32m   1070\u001b[0m             \u001b[1;31m# Then pack it according to the dtype's nesting\u001b[0m\u001b[1;33m\u001b[0m\u001b[1;33m\u001b[0m\u001b[1;33m\u001b[0m\u001b[0m\n",
      "\u001b[1;32m~\\Anaconda3\\lib\\site-packages\\numpy\\lib\\npyio.py\u001b[0m in \u001b[0;36mfloatconv\u001b[1;34m(x)\u001b[0m\n\u001b[0;32m    773\u001b[0m         \u001b[1;32mif\u001b[0m \u001b[1;34m'0x'\u001b[0m \u001b[1;32min\u001b[0m \u001b[0mx\u001b[0m\u001b[1;33m:\u001b[0m\u001b[1;33m\u001b[0m\u001b[1;33m\u001b[0m\u001b[0m\n\u001b[0;32m    774\u001b[0m             \u001b[1;32mreturn\u001b[0m \u001b[0mfloat\u001b[0m\u001b[1;33m.\u001b[0m\u001b[0mfromhex\u001b[0m\u001b[1;33m(\u001b[0m\u001b[0mx\u001b[0m\u001b[1;33m)\u001b[0m\u001b[1;33m\u001b[0m\u001b[1;33m\u001b[0m\u001b[0m\n\u001b[1;32m--> 775\u001b[1;33m         \u001b[1;32mreturn\u001b[0m \u001b[0mfloat\u001b[0m\u001b[1;33m(\u001b[0m\u001b[0mx\u001b[0m\u001b[1;33m)\u001b[0m\u001b[1;33m\u001b[0m\u001b[1;33m\u001b[0m\u001b[0m\n\u001b[0m\u001b[0;32m    776\u001b[0m \u001b[1;33m\u001b[0m\u001b[0m\n\u001b[0;32m    777\u001b[0m     \u001b[0mtyp\u001b[0m \u001b[1;33m=\u001b[0m \u001b[0mdtype\u001b[0m\u001b[1;33m.\u001b[0m\u001b[0mtype\u001b[0m\u001b[1;33m\u001b[0m\u001b[1;33m\u001b[0m\u001b[0m\n",
      "\u001b[1;31mValueError\u001b[0m: could not convert string to float: "
     ]
    }
   ],
   "source": [
    "dataset = loadtxt('Vul-pred.csv', delimiter=',') #sin sacar valores atípicos\n",
    "X = dataset[:,1:4]\n",
    "print(X.dtype)\n",
    "Y = dataset[:, 6]\n",
    "nit = dataset[:,0]\n",
    "print(X.dtype)\n",
    "\n",
    "def rmse(predicts, targets): \n",
    "    return np.sqrt(((predicts - targets) ** 2).mean())\n",
    "\n",
    "def corr(predicts, targets, nit):\n",
    "    a = predicts - np.mean(predicts)\n",
    "    b = nit - np.mean(nit)\n",
    "    return sum(a*b) / (np.sqrt(sum(a**2))*(np.sqrt(sum(b**2))))\n",
    "\n",
    "# define base model\n",
    "def b_model():\n",
    "\t# create model\n",
    "\tmodel = Sequential()\n",
    "\tmodel.add(Dense(8, input_dim=4, kernel_initializer='normal', activation='relu'))\n",
    "\t#model.add(Dense(6, kernel_initializer='normal', activation='relu'))\n",
    "\tmodel.add(Dense(1, kernel_initializer='normal', activation='linear'))\n",
    "\tmodel.compile(loss='mean_squared_error', optimizer='Adadelta', metrics=['mse'])\n",
    "\treturn model\n",
    "\n",
    "estimator = KerasRegressor(build_fn=b_model, epochs=10, batch_size=10, verbose=0)\n",
    "#kfold = KFold(n_splits=10)\n",
    "#estimator.fit(X, Y)\n",
    "#y_pred = estimator.predict(X_test)\n",
    "y_pred = cross_val_predict(estimator, X, Y, cv=10)\n",
    "\n",
    "for i in range(len(Y)):\n",
    "\tprint('%s => %f (expected %f)' % (X[i].tolist(), y_pred[i], Y[i]))\n",
    "\n",
    "print(rmse(y_pred, Y))\n",
    "print(corr(y_pred, Y, nit))\n",
    "\n",
    "fig,ax = plt.subplots()\n",
    "ax.scatter(Y, y_pred)\n",
    "ax.plot([Y.min(), Y.max()], [Y.min(), Y.max()], 'k--', lw=2)\n",
    "ax.set_xlabel('Measured')\n",
    "ax.set_ylabel('Predicted')\n",
    "fig.show()\n"
   ]
  },
  {
   "cell_type": "code",
   "execution_count": null,
   "metadata": {
    "scrolled": true
   },
   "outputs": [],
   "source": [
    "dataset = loadtxt('NT2006-copia.csv', delimiter=',')\n",
    "X = dataset[:,3:12]\n",
    "Y = dataset[:,13]\n",
    "\n",
    "\n",
    "# define base model\n",
    "def baseline_model(activation, optimizer, init, neurons):\n",
    "\t# create model\n",
    "\tmodel = Sequential()\n",
    "\tmodel.add(Dense(neurons, input_dim=9, kernel_initializer=init, activation=activation))\n",
    "\tmodel.add(Dense(neurons, kernel_initializer=init, activation=activation))\n",
    "\tmodel.add(Dense(1, kernel_initializer=init))\n",
    "\t# Compile model\n",
    "\tmodel.compile(loss='mean_squared_error', optimizer=optimizer)\n",
    "\treturn model\n",
    "estimator = KerasRegressor(build_fn=baseline_model, verbose=1)\n",
    "\n",
    "# grid search epochs, batch size\n",
    "epochs = [10, 20] \n",
    "batch_size = [10, 20] # add 5, 10, 20, 40, 60, 80, 100 etc\n",
    "# Use scikit-learn to grid search \n",
    "activation = ['softmax', 'softplus', 'softsign', 'relu', 'tanh', 'sigmoid', 'hard_sigmoid', 'linear']\n",
    "momentum = [0.0, 0.2, 0.4, 0.6, 0.8, 0.9]\n",
    "learn_rate = [0.001, 0.01, 0.1, 0.2, 0.3]\n",
    "dropout_rate = [0.0, 0.1, 0.2, 0.3, 0.4, 0.5, 0.6, 0.7, 0.8, 0.9]\n",
    "weight_constraint=[1, 2, 3, 4, 5]\n",
    "neurons = [6, 10, 15, 18]\n",
    "init = ['uniform', 'lecun_uniform', 'normal', 'zero', 'glorot_normal', 'glorot_uniform', 'he_normal', 'he_uniform']\n",
    "optimizer = [ 'SGD', 'RMSprop', 'Adagrad', 'Adadelta', 'Adam', 'Adamax', 'Nadam']\n",
    "\n",
    "parameters = {'activation':activation, 'optimizer':optimizer, 'init':init, 'epochs': epochs, 'batch_size':batch_size,\n",
    "              'neurons':neurons}\n",
    "grid = GridSearchCV(estimator=estimator, param_grid=parameters, n_jobs=-1)\n",
    "grid_result = grid.fit(X, Y) \n",
    "\n",
    "##############################################################\n",
    "\n",
    "# summarize results\n",
    "print(\"Best: %f using %s\" % (grid_result.best_score_, grid_result.best_params_))\n",
    "means = grid_result.cv_results_['mean_test_score']\n",
    "stds = grid_result.cv_results_['std_test_score']\n",
    "params = grid_result.cv_results_['params']\n",
    "for mean, stdev, param in zip(means, stds, params):\n",
    "    print(\"%f (%f) with: %r\" % (mean, stdev, param))\n",
    "    "
   ]
  },
  {
   "cell_type": "code",
   "execution_count": null,
   "metadata": {},
   "outputs": [],
   "source": []
  }
 ],
 "metadata": {
  "kernelspec": {
   "display_name": "Python 3",
   "language": "python",
   "name": "python3"
  },
  "language_info": {
   "codemirror_mode": {
    "name": "ipython",
    "version": 3
   },
   "file_extension": ".py",
   "mimetype": "text/x-python",
   "name": "python",
   "nbconvert_exporter": "python",
   "pygments_lexer": "ipython3",
   "version": "3.7.4"
  }
 },
 "nbformat": 4,
 "nbformat_minor": 2
}
